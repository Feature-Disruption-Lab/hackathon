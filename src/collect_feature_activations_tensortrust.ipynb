{
 "cells": [
  {
   "cell_type": "code",
   "execution_count": 1,
   "id": "f05f570dce907766",
   "metadata": {
    "ExecuteTime": {
     "end_time": "2024-11-23T11:11:34.394380Z",
     "start_time": "2024-11-23T11:11:34.369030Z"
    },
    "id": "f05f570dce907766"
   },
   "outputs": [],
   "source": [
    "import os\n",
    "import random\n",
    "import goodfire\n",
    "import pandas as pd"
   ]
  },
  {
   "cell_type": "code",
   "execution_count": 2,
   "id": "6c00c2f60e7d91a",
   "metadata": {
    "id": "6c00c2f60e7d91a"
   },
   "outputs": [],
   "source": [
    "api_key = os.getenv('API_KEY')\n",
    "client = goodfire.Client(api_key)\n",
    "\n",
    "# MODEL = \"meta-llama/Meta-Llama-3-70B-Instruct\"\n",
    "MODEL = \"meta-llama/Meta-Llama-3-8B-Instruct\"\n",
    "variant = goodfire.Variant(MODEL)"
   ]
  },
  {
   "cell_type": "markdown",
   "id": "38d49cf5fc3b3ae",
   "metadata": {
    "id": "38d49cf5fc3b3ae"
   },
   "source": [
    "# Create Data"
   ]
  },
  {
   "cell_type": "code",
   "execution_count": 3,
   "id": "41b8c94c666d69d3",
   "metadata": {
    "ExecuteTime": {
     "end_time": "2024-11-22T22:32:51.026545Z",
     "start_time": "2024-11-22T22:32:51.000780Z"
    },
    "id": "41b8c94c666d69d3"
   },
   "outputs": [],
   "source": [
    "from pathlib import Path\n",
    "\n",
    "DATA_DIR = Path(\"..\") / Path(\"data\")"
   ]
  },
  {
   "cell_type": "code",
   "execution_count": 4,
   "id": "a59fccd7769dfc22",
   "metadata": {
    "ExecuteTime": {
     "end_time": "2024-11-23T10:54:43.623275Z",
     "start_time": "2024-11-23T10:54:43.594367Z"
    },
    "colab": {
     "base_uri": "https://localhost:8080/",
     "height": 206
    },
    "id": "a59fccd7769dfc22",
    "outputId": "8a13dacc-9ff9-4bf3-be62-b8898834b245"
   },
   "outputs": [],
   "source": [
    "prompts_hijack_attempt_file_path = DATA_DIR / \"Instruction_Hijacking_Prompts_Bad_Full_Set.csv\"\n",
    "prompts_hijack_attempt_df = pd.read_csv(prompts_hijack_attempt_file_path)\n",
    "# hijacking_prompts_badset_df.head()"
   ]
  },
  {
   "cell_type": "code",
   "execution_count": 5,
   "id": "XG5I0qJDsUQI",
   "metadata": {
    "colab": {
     "base_uri": "https://localhost:8080/",
     "height": 206
    },
    "id": "XG5I0qJDsUQI",
    "outputId": "c73ba715-e4bb-4c7a-97f7-c19e56defe47"
   },
   "outputs": [],
   "source": [
    "prompts_correct_password_file_path = DATA_DIR / \"Instruction_Hijacking_Prompts_Good_Full_Set_Password.csv\"\n",
    "prompts_correct_password_df = pd.read_csv(prompts_correct_password_file_path)\n",
    "# hijacking_prompts_goodset_password_df.head()"
   ]
  },
  {
   "cell_type": "code",
   "execution_count": 6,
   "id": "DIHmbJkUQ8nA",
   "metadata": {
    "colab": {
     "base_uri": "https://localhost:8080/",
     "height": 206
    },
    "id": "DIHmbJkUQ8nA",
    "outputId": "8af83064-5ac0-492b-b212-5a24c714f12d"
   },
   "outputs": [],
   "source": [
    "prompts_random_password_file_path = DATA_DIR / \"Instruction_Hijacking_Prompts_Good_Full_Set_Random.csv\"\n",
    "prompts_random_password_df = pd.read_csv(prompts_random_password_file_path)\n",
    "# hijacking_prompts_goodset_random_df.head()"
   ]
  },
  {
   "cell_type": "markdown",
   "id": "abe5de73adcba1c0",
   "metadata": {
    "id": "abe5de73adcba1c0"
   },
   "source": [
    "### Hijacking Data"
   ]
  },
  {
   "cell_type": "code",
   "execution_count": 7,
   "id": "JaXt84Dnuyx_",
   "metadata": {
    "colab": {
     "base_uri": "https://localhost:8080/",
     "height": 300
    },
    "id": "JaXt84Dnuyx_",
    "outputId": "b2089684-5e36-4fe9-a65e-01693cc1571e"
   },
   "outputs": [
    {
     "data": {
      "text/plain": [
       "pre_prompt    280\n",
       "attack        280\n",
       "bad           280\n",
       "dtype: int64"
      ]
     },
     "execution_count": 7,
     "metadata": {},
     "output_type": "execute_result"
    }
   ],
   "source": [
    "# tries to hijack\n",
    "prompts_hijack_attempt_df.count()"
   ]
  },
  {
   "cell_type": "code",
   "execution_count": 8,
   "id": "33118a5d6e3047a4",
   "metadata": {
    "ExecuteTime": {
     "end_time": "2024-11-23T11:04:24.397594Z",
     "start_time": "2024-11-23T11:04:24.370259Z"
    },
    "colab": {
     "base_uri": "https://localhost:8080/",
     "height": 300
    },
    "id": "33118a5d6e3047a4",
    "outputId": "cf508c8b-ebc1-4c9a-d790-4d6821e98dca"
   },
   "outputs": [
    {
     "data": {
      "text/plain": [
       "pre_prompt    280\n",
       "attack        280\n",
       "bad           280\n",
       "dtype: int64"
      ]
     },
     "execution_count": 8,
     "metadata": {},
     "output_type": "execute_result"
    }
   ],
   "source": [
    "# has the correct_password\n",
    "prompts_correct_password_df.count()"
   ]
  },
  {
   "cell_type": "code",
   "execution_count": 9,
   "id": "mafX08aJU43u",
   "metadata": {
    "colab": {
     "base_uri": "https://localhost:8080/",
     "height": 300
    },
    "id": "mafX08aJU43u",
    "outputId": "0facde95-b9bf-4472-8706-e787f46c0b84"
   },
   "outputs": [
    {
     "data": {
      "text/plain": [
       "pre_prompt    280\n",
       "attack        280\n",
       "bad           280\n",
       "dtype: int64"
      ]
     },
     "execution_count": 9,
     "metadata": {},
     "output_type": "execute_result"
    }
   ],
   "source": [
    "# wrong / random password\n",
    "prompts_random_password_df.count()"
   ]
  },
  {
   "cell_type": "code",
   "execution_count": 10,
   "id": "dad377fa2d2b9bca",
   "metadata": {
    "ExecuteTime": {
     "end_time": "2024-11-23T11:14:56.486818Z",
     "start_time": "2024-11-23T11:14:56.460695Z"
    },
    "id": "dad377fa2d2b9bca"
   },
   "outputs": [],
   "source": [
    "prompts_hijack_attempt_df['class'] = \"hijack_attempt\"\n",
    "prompts_random_password_df['class'] = \"random_password\"\n",
    "prompts_correct_password_df['class'] = \"correct_password\"\n",
    "\n",
    "all_prompts_df = pd.concat(\n",
    "    [\n",
    "        prompts_hijack_attempt_df,\n",
    "        prompts_random_password_df,\n",
    "        prompts_correct_password_df,\n",
    "    ]\n",
    ")"
   ]
  },
  {
   "cell_type": "code",
   "execution_count": 11,
   "id": "2065c246",
   "metadata": {},
   "outputs": [],
   "source": [
    "from time import sleep\n",
    "from typing import Any\n",
    "from goodfire_utils import clone_variant, run_conversation_through_goodfire\n",
    "from utils import retry_with_backoff\n",
    "\n",
    "\n",
    "def get_response_for_prompt(row: dict[str, Any]) -> dict:\n",
    "    \"\"\"\n",
    "    row: {\"preprompt\": str, \"attack\": str, \"bad\": int}\n",
    "    bad is 0 or 1, 1 meanind bad, 0 meaning good\n",
    "    \"\"\"\n",
    "    conv = [\n",
    "        {\"role\": \"assistant\", \"content\": row[\"pre_prompt\"]},\n",
    "        {\"role\": \"user\", \"content\": row[\"attack\"]},\n",
    "    ]\n",
    "\n",
    "    # sleep to distribute load of API\n",
    "    sleep(random.random() * 2)\n",
    "\n",
    "    def get_response():\n",
    "        # clone the model variant as it's stateful and we don't want\n",
    "        # different api hits impacting each other\n",
    "        cloned_variant = clone_variant(variant)\n",
    "        return run_conversation_through_goodfire(conv, cloned_variant, client)\n",
    "\n",
    "    # try to generate response, using backoff so we don't hit rate limits\n",
    "    try:\n",
    "        response = retry_with_backoff(get_response, max_retries=5)\n",
    "\n",
    "        # return response with the label added\n",
    "        return {\n",
    "            \"prompt\": response[\"prompt\"],\n",
    "            \"response\": response[\"response\"],\n",
    "            \"features\": response[\"features\"],\n",
    "            \"label\": row[\"class\"],\n",
    "        }\n",
    "    \n",
    "    except Exception as e:\n",
    "        return {\"error\": str(e)}\n"
   ]
  },
  {
   "cell_type": "code",
   "execution_count": 12,
   "id": "9f297f4e",
   "metadata": {},
   "outputs": [
    {
     "name": "stderr",
     "output_type": "stream",
     "text": [
      "  0%|          | 0/840 [00:00<?, ?it/s]"
     ]
    },
    {
     "name": "stderr",
     "output_type": "stream",
     "text": [
      "100%|██████████| 840/840 [08:08<00:00,  1.72it/s]"
     ]
    },
    {
     "name": "stdout",
     "output_type": "stream",
     "text": [
      "Number of errors: 13\n"
     ]
    },
    {
     "name": "stderr",
     "output_type": "stream",
     "text": [
      "\n"
     ]
    }
   ],
   "source": [
    "from concurrent.futures import ThreadPoolExecutor\n",
    "from tqdm import tqdm\n",
    "\n",
    "all_prompts_dicts = all_prompts_df.to_dict(orient=\"records\")\n",
    "\n",
    "with ThreadPoolExecutor(30) as executor:\n",
    "    conversation_responses = list(\n",
    "        tqdm(\n",
    "            executor.map(get_response_for_prompt, all_prompts_dicts),\n",
    "            total=len(all_prompts_dicts),\n",
    "        )\n",
    "    )\n",
    "\n",
    "errors = [r for r in conversation_responses if \"error\" in r]\n",
    "print(f\"Number of errors: {len(errors)}\")\n",
    "\n",
    "conversation_responses = [r for r in conversation_responses if \"error\" not in r]"
   ]
  },
  {
   "cell_type": "code",
   "execution_count": 15,
   "id": "e9a93eff",
   "metadata": {},
   "outputs": [
    {
     "data": {
      "text/plain": [
       "'[Errno 8] nodename nor servname provided, or not known'"
      ]
     },
     "execution_count": 15,
     "metadata": {},
     "output_type": "execute_result"
    }
   ],
   "source": [
    "errors[0]['error']"
   ]
  },
  {
   "cell_type": "code",
   "execution_count": 13,
   "id": "ffdd5d9e",
   "metadata": {},
   "outputs": [],
   "source": [
    "from utils import save_as_npz\n",
    "save_as_npz(conversation_responses, DATA_DIR / \"tensortrust_output.npz\")"
   ]
  },
  {
   "cell_type": "code",
   "execution_count": null,
   "id": "4457d6bd",
   "metadata": {},
   "outputs": [],
   "source": []
  }
 ],
 "metadata": {
  "colab": {
   "provenance": []
  },
  "kernelspec": {
   "display_name": ".venv",
   "language": "python",
   "name": "python3"
  },
  "language_info": {
   "codemirror_mode": {
    "name": "ipython",
    "version": 3
   },
   "file_extension": ".py",
   "mimetype": "text/x-python",
   "name": "python",
   "nbconvert_exporter": "python",
   "pygments_lexer": "ipython3",
   "version": "3.12.3"
  }
 },
 "nbformat": 4,
 "nbformat_minor": 5
}
