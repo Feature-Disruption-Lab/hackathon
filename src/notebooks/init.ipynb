{
 "cells": [
  {
   "metadata": {
    "ExecuteTime": {
     "end_time": "2024-11-22T16:51:02.663118Z",
     "start_time": "2024-11-22T16:51:01.710132Z"
    }
   },
   "cell_type": "code",
   "source": [
    "import goodfire\n",
    "import torch\n",
    "from transformers import AutoModelForCausalLM, AutoTokenizer"
   ],
   "id": "f05f570dce907766",
   "outputs": [],
   "execution_count": 3
  },
  {
   "cell_type": "code",
   "id": "initial_id",
   "metadata": {
    "collapsed": true,
    "ExecuteTime": {
     "end_time": "2024-11-22T16:58:49.654064Z",
     "start_time": "2024-11-22T16:58:49.632793Z"
    }
   },
   "source": [
    "%load_ext autoreload\n",
    "%autoreload 2"
   ],
   "outputs": [
    {
     "name": "stdout",
     "output_type": "stream",
     "text": [
      "The autoreload extension is already loaded. To reload it, use:\n",
      "  %reload_ext autoreload\n"
     ]
    }
   ],
   "execution_count": 4
  },
  {
   "metadata": {
    "ExecuteTime": {
     "end_time": "2024-11-22T19:45:16.959018Z",
     "start_time": "2024-11-22T19:45:16.811040Z"
    }
   },
   "cell_type": "code",
   "source": [
    "# Add you Goodfire API Key to your Colab secrets\n",
    "GOODFIRE_API_KEY = 'sk-goodfire-ZLAR0QmvNN6ag99dXuFY__lcJmyh_-G4EqjO__Hf-qYlCbEQrYF44A'"
   ],
   "id": "c521bd9cadfe5078",
   "outputs": [],
   "execution_count": 7
  },
  {
   "metadata": {
    "ExecuteTime": {
     "end_time": "2024-11-22T19:45:19.784480Z",
     "start_time": "2024-11-22T19:45:19.763828Z"
    }
   },
   "cell_type": "code",
   "source": [
    "client = goodfire.Client(GOODFIRE_API_KEY)\n",
    "\n",
    "# Instantiate a model variant for use later in the notebook\n",
    "variant = goodfire.Variant(\"meta-llama/Meta-Llama-3-8B-Instruct\")"
   ],
   "id": "f2cbbe6db415d783",
   "outputs": [],
   "execution_count": 8
  },
  {
   "metadata": {
    "ExecuteTime": {
     "end_time": "2024-11-22T19:46:27.278897Z",
     "start_time": "2024-11-22T19:46:24.273900Z"
    }
   },
   "cell_type": "code",
   "source": [
    "for token in client.chat.completions.create(\n",
    "    [\n",
    "        {\"role\": \"user\", \"content\": \"hi, what is going on?\"}\n",
    "    ],\n",
    "    model=variant,\n",
    "    stream=True,\n",
    "    max_completion_tokens=50,\n",
    "):\n",
    "    print(token.choices[0].delta.content, end=\"\")"
   ],
   "id": "d2a8d5013b8831af",
   "outputs": [
    {
     "name": "stdout",
     "output_type": "stream",
     "text": [
      "Hello there! Not much is going on, just waiting to help you with whatever you need. How about you? What's on your mind today?"
     ]
    }
   ],
   "execution_count": 9
  },
  {
   "metadata": {},
   "cell_type": "code",
   "outputs": [],
   "execution_count": null,
   "source": "",
   "id": "ab3a41768c27aeb2"
  }
 ],
 "metadata": {
  "kernelspec": {
   "display_name": "Python 3",
   "language": "python",
   "name": "python3"
  },
  "language_info": {
   "codemirror_mode": {
    "name": "ipython",
    "version": 2
   },
   "file_extension": ".py",
   "mimetype": "text/x-python",
   "name": "python",
   "nbconvert_exporter": "python",
   "pygments_lexer": "ipython2",
   "version": "2.7.6"
  }
 },
 "nbformat": 4,
 "nbformat_minor": 5
}
