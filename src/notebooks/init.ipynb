{
 "cells": [
  {
   "cell_type": "code",
   "execution_count": null,
   "id": "f05f570dce907766",
   "metadata": {
    "ExecuteTime": {
     "end_time": "2024-11-22T16:51:02.663118Z",
     "start_time": "2024-11-22T16:51:01.710132Z"
    }
   },
   "outputs": [],
   "source": [
    "import goodfire\n",
    "import torch\n",
    "from transformers import AutoModelForCausalLM, AutoTokenizer"
   ]
  },
  {
   "cell_type": "code",
   "execution_count": 4,
   "id": "initial_id",
   "metadata": {
    "ExecuteTime": {
     "end_time": "2024-11-22T16:58:49.654064Z",
     "start_time": "2024-11-22T16:58:49.632793Z"
    },
    "collapsed": true
   },
   "outputs": [
    {
     "name": "stdout",
     "output_type": "stream",
     "text": [
      "The autoreload extension is already loaded. To reload it, use:\n",
      "  %reload_ext autoreload\n"
     ]
    }
   ],
   "source": [
    "%load_ext autoreload\n",
    "%autoreload 2"
   ]
  },
  {
   "cell_type": "code",
   "execution_count": 7,
   "id": "c521bd9cadfe5078",
   "metadata": {
    "ExecuteTime": {
     "end_time": "2024-11-22T19:45:16.959018Z",
     "start_time": "2024-11-22T19:45:16.811040Z"
    }
   },
   "outputs": [],
   "source": [
    "# Add you Goodfire API Key to your Colab secrets\n",
    "GOODFIRE_API_KEY = '<KEY>'"
   ]
  },
  {
   "cell_type": "code",
   "execution_count": 8,
   "id": "f2cbbe6db415d783",
   "metadata": {
    "ExecuteTime": {
     "end_time": "2024-11-22T19:45:19.784480Z",
     "start_time": "2024-11-22T19:45:19.763828Z"
    }
   },
   "outputs": [],
   "source": [
    "client = goodfire.Client(GOODFIRE_API_KEY)\n",
    "\n",
    "# Instantiate a model variant for use later in the notebook\n",
    "variant = goodfire.Variant(\"meta-llama/Meta-Llama-3-8B-Instruct\")"
   ]
  },
  {
   "cell_type": "code",
   "execution_count": 9,
   "id": "d2a8d5013b8831af",
   "metadata": {
    "ExecuteTime": {
     "end_time": "2024-11-22T19:46:27.278897Z",
     "start_time": "2024-11-22T19:46:24.273900Z"
    }
   },
   "outputs": [
    {
     "name": "stdout",
     "output_type": "stream",
     "text": [
      "Hello there! Not much is going on, just waiting to help you with whatever you need. How about you? What's on your mind today?"
     ]
    }
   ],
   "source": [
    "for token in client.chat.completions.create(\n",
    "    [\n",
    "        {\"role\": \"user\", \"content\": \"hi, what is going on?\"}\n",
    "    ],\n",
    "    model=variant,\n",
    "    stream=True,\n",
    "    max_completion_tokens=50,\n",
    "):\n",
    "    print(token.choices[0].delta.content, end=\"\")"
   ]
  },
  {
   "cell_type": "code",
   "execution_count": null,
   "id": "ab3a41768c27aeb2",
   "metadata": {},
   "outputs": [],
   "source": []
  }
 ],
 "metadata": {
  "kernelspec": {
   "display_name": "Python 3",
   "language": "python",
   "name": "python3"
  },
  "language_info": {
   "codemirror_mode": {
    "name": "ipython",
    "version": 2
   },
   "file_extension": ".py",
   "mimetype": "text/x-python",
   "name": "python",
   "nbconvert_exporter": "python",
   "pygments_lexer": "ipython2",
   "version": "2.7.6"
  }
 },
 "nbformat": 4,
 "nbformat_minor": 5
}
