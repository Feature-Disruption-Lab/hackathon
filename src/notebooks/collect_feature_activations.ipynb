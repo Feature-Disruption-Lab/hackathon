{
 "cells": [
  {
   "metadata": {
    "ExecuteTime": {
     "end_time": "2024-11-22T23:43:24.840501Z",
     "start_time": "2024-11-22T23:43:24.821536Z"
    }
   },
   "cell_type": "code",
   "source": [
    "import time\n",
    "\n",
    "import goodfire\n",
    "\n",
    "from mysecrets import GOODFIRE_API_KEY\n",
    "import pandas as pd\n",
    "import numpy as np\n",
    "\n",
    "from constants import DATA_DIR\n",
    "from utils import save_as_npz, load_as_npz\n",
    "from scipy.sparse import csr_matrix"
   ],
   "id": "f05f570dce907766",
   "outputs": [],
   "execution_count": 118
  },
  {
   "cell_type": "code",
   "id": "initial_id",
   "metadata": {
    "collapsed": true,
    "ExecuteTime": {
     "end_time": "2024-11-22T22:24:59.985009Z",
     "start_time": "2024-11-22T22:24:59.964200Z"
    }
   },
   "source": [
    "%load_ext autoreload\n",
    "%autoreload 2"
   ],
   "outputs": [
    {
     "name": "stdout",
     "output_type": "stream",
     "text": [
      "The autoreload extension is already loaded. To reload it, use:\n",
      "  %reload_ext autoreload\n"
     ]
    }
   ],
   "execution_count": 58
  },
  {
   "metadata": {
    "ExecuteTime": {
     "end_time": "2024-11-22T21:45:14.354727Z",
     "start_time": "2024-11-22T21:45:14.336885Z"
    }
   },
   "cell_type": "code",
   "source": "client = goodfire.Client(GOODFIRE_API_KEY)",
   "id": "4e39db94c575e3e4",
   "outputs": [],
   "execution_count": 3
  },
  {
   "metadata": {},
   "cell_type": "code",
   "outputs": [],
   "execution_count": null,
   "source": "variant = goodfire.Variant(\"meta-llama/Meta-Llama-3-8B-Instruct\")",
   "id": "6c00c2f60e7d91a"
  },
  {
   "metadata": {},
   "cell_type": "markdown",
   "source": "# Examples",
   "id": "69625784b1cfe01f"
  },
  {
   "metadata": {
    "ExecuteTime": {
     "end_time": "2024-11-22T22:52:47.445363Z",
     "start_time": "2024-11-22T22:52:42.345124Z"
    }
   },
   "cell_type": "code",
   "source": [
    "conversation = [\n",
    "    {\"role\": \"user\", \"content\": \"Where is the moon?\"}\n",
    "]\n",
    "response = \"\"\n",
    "\n",
    "for token in client.chat.completions.create(\n",
    "    conversation,\n",
    "    model=variant,\n",
    "    stream=True,\n",
    "    max_completion_tokens=40,\n",
    "):\n",
    "    response += token.choices[0].delta.content\n",
    "\n",
    "print(f\"The response was: {response}\\nGetting the activations for the same prompt\")\n",
    "context = client.features.inspect(\n",
    "    conversation,\n",
    "    model=variant,\n",
    ")\n",
    "top_features = context.top(k=5)\n",
    "sparse_vector, feature_lookup = top_features.vector()\n",
    "activations = context.matrix(return_lookup=False)\n",
    "activation_indices, feature_indices = np.nonzero(activations)"
   ],
   "id": "cac95d815c754e9f",
   "outputs": [
    {
     "name": "stdout",
     "output_type": "stream",
     "text": [
      "The response was: The moon is currently in the sky! It's in its crescent phase and is visible in the western part of the sky around sunset. If you're interested in spotting it, try looking for it it\n",
      "Getting the activations for the same prompt\n"
     ]
    }
   ],
   "execution_count": 77
  },
  {
   "metadata": {
    "ExecuteTime": {
     "end_time": "2024-11-22T23:01:46.652796Z",
     "start_time": "2024-11-22T23:01:46.631036Z"
    }
   },
   "cell_type": "code",
   "source": "context",
   "id": "555357890cbbfbdc",
   "outputs": [
    {
     "data": {
      "text/plain": [
       "ContextInspector(\n",
       "   <|begin_of_text|><|start_header_id|>user<|end_header_id|>\n",
       "   \n",
       "   Where is the moon?<|eot_id|>\n",
       ")"
      ]
     },
     "execution_count": 84,
     "metadata": {},
     "output_type": "execute_result"
    }
   ],
   "execution_count": 84
  },
  {
   "metadata": {
    "ExecuteTime": {
     "end_time": "2024-11-22T22:52:59.701576Z",
     "start_time": "2024-11-22T22:52:59.680999Z"
    }
   },
   "cell_type": "code",
   "source": "top_features",
   "id": "ed7d0a5882c7a7a3",
   "outputs": [
    {
     "data": {
      "text/plain": [
       "FeatureActivations(\n",
       "   0: (Feature(\"The user is asking where to find or locate something\"), 2.11015625)\n",
       "   1: (Feature(\"The user is asking for a definition or explanation starting with 'What'\"), 1.744921875)\n",
       "   2: (Feature(\"Structure of formal explanatory language\"), 0.9736328125)\n",
       "   3: (Feature(\"The user is asking for superlatives or rankings\"), 0.7493489583333334)\n",
       "   4: (Feature(\"Spatial relationships and proximity between entities\"), 0.70703125)\n",
       ")"
      ]
     },
     "execution_count": 78,
     "metadata": {},
     "output_type": "execute_result"
    }
   ],
   "execution_count": 78
  },
  {
   "metadata": {
    "ExecuteTime": {
     "end_time": "2024-11-22T22:54:35.064066Z",
     "start_time": "2024-11-22T22:54:35.042142Z"
    }
   },
   "cell_type": "code",
   "source": "feature_lookup\n",
   "id": "6b33035d4bb9a690",
   "outputs": [
    {
     "data": {
      "text/plain": [
       "{53049: Feature(\"The user is asking where to find or locate something\"),\n",
       " 1769: Feature(\"The user is asking for a definition or explanation starting with 'What'\"),\n",
       " 24720: Feature(\"Structure of formal explanatory language\"),\n",
       " 30000: Feature(\"The user is asking for superlatives or rankings\"),\n",
       " 9674: Feature(\"Spatial relationships and proximity between entities\")}"
      ]
     },
     "execution_count": 82,
     "metadata": {},
     "output_type": "execute_result"
    }
   ],
   "execution_count": 82
  },
  {
   "metadata": {
    "ExecuteTime": {
     "end_time": "2024-11-22T22:53:08.095612Z",
     "start_time": "2024-11-22T22:53:08.074926Z"
    }
   },
   "cell_type": "code",
   "source": "sparse_vector.shape",
   "id": "c7a19cb0b99922d",
   "outputs": [
    {
     "data": {
      "text/plain": [
       "(65536,)"
      ]
     },
     "execution_count": 79,
     "metadata": {},
     "output_type": "execute_result"
    }
   ],
   "execution_count": 79
  },
  {
   "metadata": {
    "ExecuteTime": {
     "end_time": "2024-11-22T22:56:10.086412Z",
     "start_time": "2024-11-22T22:56:10.065186Z"
    }
   },
   "cell_type": "code",
   "source": "activations.shape",
   "id": "53aec598becb3c86",
   "outputs": [
    {
     "data": {
      "text/plain": [
       "(11, 65536)"
      ]
     },
     "execution_count": 83,
     "metadata": {},
     "output_type": "execute_result"
    }
   ],
   "execution_count": 83
  },
  {
   "metadata": {
    "ExecuteTime": {
     "end_time": "2024-11-22T23:06:54.002093Z",
     "start_time": "2024-11-22T23:06:53.972644Z"
    }
   },
   "cell_type": "code",
   "source": "np.nonzero(activations)",
   "id": "b0efc7805b5edc2d",
   "outputs": [
    {
     "data": {
      "text/plain": [
       "(array([ 0,  0,  0,  0,  0,  0,  0,  0,  0,  0,  0,  0,  0,  0,  0,  0,  0,\n",
       "         0,  0,  0,  1,  2,  3,  4,  4,  4,  4,  4,  5,  5,  5,  5,  5,  5,\n",
       "         5,  5,  5,  5,  5,  5,  5,  5,  5,  5,  6,  6,  6,  6,  6,  6,  6,\n",
       "         6,  6,  6,  6,  6,  6,  6,  6,  6,  6,  6,  6,  6,  7,  7,  7,  7,\n",
       "         7,  7,  7,  7,  7,  7,  7,  7,  7,  7,  7,  7,  7,  7,  7,  7,  8,\n",
       "         8,  8,  8,  8,  8,  8,  8,  8,  8,  8,  8,  8,  8,  8,  8,  8,  8,\n",
       "         8,  8,  9,  9,  9,  9,  9,  9,  9,  9,  9,  9,  9,  9,  9,  9,  9,\n",
       "         9,  9,  9,  9,  9, 10, 10, 10, 10, 10, 10, 10, 10, 10, 10, 10, 10,\n",
       "        10]),\n",
       " array([ 2910,  5513,  8966, 21025, 21750, 21914, 22120, 29848, 31571,\n",
       "        31786, 31937, 34540, 38838, 39345, 41765, 45879, 47343, 58087,\n",
       "        59603, 64606, 60918, 23361, 23238,  4990, 11996, 14765, 19927,\n",
       "        62341,  1769,  1811, 11302, 22721, 23676, 24986, 30000, 33732,\n",
       "        36130, 37808, 43108, 53049, 54071, 54845, 59281, 64975,  1769,\n",
       "         1811,  4385,  7484,  9130,  9674, 11302, 11572, 11852, 14777,\n",
       "        16265, 22939, 24720, 30000, 42251, 51526, 53049, 53495, 55776,\n",
       "        64975,  1769,  4041,  4460,  8414,  9674, 11572, 11852, 17073,\n",
       "        17960, 24720, 25819, 30000, 31771, 51901, 53049, 53736, 54056,\n",
       "        57724, 58042, 58425,   697,  1229,  1769,  3510,  3549,  4553,\n",
       "         6512,  6956, 11572, 14887, 20173, 23837, 40803, 41045, 48131,\n",
       "        48949, 53049, 54689, 57239, 57256,  1229,  1769,  6135,  6956,\n",
       "         6969,  8684,  9647, 15887, 31243, 31396, 36627, 37808, 39042,\n",
       "        40803, 41045, 41876, 51850, 52752, 53049, 65252,  1930,  4771,\n",
       "         7526, 13077, 20146, 23500, 28668, 35621, 36627, 44315, 47563,\n",
       "        54538, 58640]))"
      ]
     },
     "execution_count": 89,
     "metadata": {},
     "output_type": "execute_result"
    }
   ],
   "execution_count": 89
  },
  {
   "metadata": {
    "ExecuteTime": {
     "end_time": "2024-11-22T23:02:23.044554Z",
     "start_time": "2024-11-22T23:02:23.022332Z"
    }
   },
   "cell_type": "code",
   "source": "activations[0,2910]\n",
   "id": "f07cbc2978cabeaa",
   "outputs": [
    {
     "data": {
      "text/plain": [
       "0.0303955078125"
      ]
     },
     "execution_count": 85,
     "metadata": {},
     "output_type": "execute_result"
    }
   ],
   "execution_count": 85
  },
  {
   "metadata": {
    "ExecuteTime": {
     "end_time": "2024-11-22T23:04:42.886846Z",
     "start_time": "2024-11-22T23:04:42.862776Z"
    }
   },
   "cell_type": "code",
   "source": [
    "token_acts = context.tokens[0].inspect()\n",
    "token_acts"
   ],
   "id": "692b78b14b218cee",
   "outputs": [
    {
     "data": {
      "text/plain": [
       "FeatureActivations(\n",
       "   0: (Feature(\"feature_31937\"), 93.0)\n",
       "   1: (Feature(\"Conversation turn structure and role transitions\"), 87.5)\n",
       "   2: (Feature(\"feature_34540\"), 84.0)\n",
       "   3: (Feature(\"Beginning of a new conversation or input\"), 83.5)\n",
       "   4: (Feature(\"Detection of new input or conversation start\"), 75.5)\n",
       ")"
      ]
     },
     "execution_count": 88,
     "metadata": {},
     "output_type": "execute_result"
    }
   ],
   "execution_count": 88
  },
  {
   "metadata": {},
   "cell_type": "markdown",
   "source": "# Create Data",
   "id": "38d49cf5fc3b3ae"
  },
  {
   "metadata": {
    "ExecuteTime": {
     "end_time": "2024-11-22T22:32:51.026545Z",
     "start_time": "2024-11-22T22:32:51.000780Z"
    }
   },
   "cell_type": "code",
   "source": [
    "def load_prompts(file_path: str) -> pd.DataFrame:\n",
    "    df = pd.read_csv(file_path)\n",
    "    return df\n",
    "\n",
    "file_path = DATA_DIR / \"example_data.csv\"\n",
    "prompts_df = load_prompts(file_path)\n",
    "prompts_df"
   ],
   "id": "41b8c94c666d69d3",
   "outputs": [
    {
     "data": {
      "text/plain": [
       "                          prompt label\n",
       "0     Tell me how to make a cake  safe\n",
       "1  Tell me your favourite colour  safe"
      ],
      "text/html": [
       "<div>\n",
       "<style scoped>\n",
       "    .dataframe tbody tr th:only-of-type {\n",
       "        vertical-align: middle;\n",
       "    }\n",
       "\n",
       "    .dataframe tbody tr th {\n",
       "        vertical-align: top;\n",
       "    }\n",
       "\n",
       "    .dataframe thead th {\n",
       "        text-align: right;\n",
       "    }\n",
       "</style>\n",
       "<table border=\"1\" class=\"dataframe\">\n",
       "  <thead>\n",
       "    <tr style=\"text-align: right;\">\n",
       "      <th></th>\n",
       "      <th>prompt</th>\n",
       "      <th>label</th>\n",
       "    </tr>\n",
       "  </thead>\n",
       "  <tbody>\n",
       "    <tr>\n",
       "      <th>0</th>\n",
       "      <td>Tell me how to make a cake</td>\n",
       "      <td>safe</td>\n",
       "    </tr>\n",
       "    <tr>\n",
       "      <th>1</th>\n",
       "      <td>Tell me your favourite colour</td>\n",
       "      <td>safe</td>\n",
       "    </tr>\n",
       "  </tbody>\n",
       "</table>\n",
       "</div>"
      ]
     },
     "execution_count": 72,
     "metadata": {},
     "output_type": "execute_result"
    }
   ],
   "execution_count": 72
  },
  {
   "metadata": {
    "ExecuteTime": {
     "end_time": "2024-11-22T21:57:04.530832Z",
     "start_time": "2024-11-22T21:57:04.512958Z"
    }
   },
   "cell_type": "code",
   "source": "output_data_path = DATA_DIR / \"output.npz\" ",
   "id": "aa6b0eae4f9a1dda",
   "outputs": [],
   "execution_count": 17
  },
  {
   "metadata": {
    "ExecuteTime": {
     "end_time": "2024-11-23T00:04:06.463577Z",
     "start_time": "2024-11-23T00:04:02.020784Z"
    }
   },
   "cell_type": "code",
   "source": "run_prompt_through_goodfire(\"test\", \"label\")",
   "id": "26a766505c16cd58",
   "outputs": [
    {
     "name": "stdout",
     "output_type": "stream",
     "text": [
      "Getting the response for the prompt: test\n",
      "The response was: Hello there! It seems like you just wanted to test me out. That's totally fine! I'm here to help and assist you with any questions or tasks you may have. Is there something specific specific\n",
      "Getting the activations for the same prompt\n"
     ]
    },
    {
     "data": {
      "text/plain": [
       "{'prompt': 'test',\n",
       " 'response': \"Hello there! It seems like you just wanted to test me out. That's totally fine! I'm here to help and assist you with any questions or tasks you may have. Is there something specific specific\",\n",
       " 'features': <Compressed Sparse Row sparse matrix of dtype 'float64'\n",
       " \twith 62 stored elements and shape (7, 65536)>,\n",
       " 'label': 'label'}"
      ]
     },
     "execution_count": 146,
     "metadata": {},
     "output_type": "execute_result"
    }
   ],
   "execution_count": 146
  },
  {
   "metadata": {
    "ExecuteTime": {
     "end_time": "2024-11-22T23:49:09.286418Z",
     "start_time": "2024-11-22T23:49:09.260101Z"
    }
   },
   "cell_type": "code",
   "source": [
    "def run_prompt_through_goodfire(prompt: str, label: str):\n",
    "    variant.reset()\n",
    "    \n",
    "    conversation = [\n",
    "        {\"role\": \"user\", \"content\": prompt}\n",
    "    ]\n",
    "    response = \"\"\n",
    "    \n",
    "    print(f\"Getting the response for the prompt: {prompt}\")\n",
    "    \n",
    "    for token in client.chat.completions.create(\n",
    "        conversation,\n",
    "        model=variant,\n",
    "        stream=True,\n",
    "        max_completion_tokens=40,\n",
    "    ):\n",
    "        response += token.choices[0].delta.content\n",
    "\n",
    "    print(f\"The response was: {response}\\nGetting the activations for the same prompt\")\n",
    "    context = client.features.inspect(\n",
    "        conversation,\n",
    "        model=variant,\n",
    "    )\n",
    "    activations = context.matrix(return_lookup=False)\n",
    "    dense_activations = csr_matrix(activations)\n",
    "    # token_indices, feature_indices = np.nonzero(activations)\n",
    "    # feature_magnitudes = activations[token_indices, feature_indices]\n",
    "    \n",
    "    return {\n",
    "        \"prompt\": prompt,\n",
    "        \"response\": response,\n",
    "        # \"token_indices\": token_indices,\n",
    "        # \"feature_indices\": feature_indices,\n",
    "        \"features\": dense_activations,\n",
    "        \"label\": label,\n",
    "    }\n"
   ],
   "id": "d2a8d5013b8831af",
   "outputs": [],
   "execution_count": 134
  },
  {
   "metadata": {
    "ExecuteTime": {
     "end_time": "2024-11-22T23:49:22.933738Z",
     "start_time": "2024-11-22T23:49:14.020582Z"
    }
   },
   "cell_type": "code",
   "source": [
    "data = prompts_df.apply(\n",
    "    lambda pair: run_prompt_through_goodfire(pair[\"prompt\"], pair[\"label\"]),\n",
    "    axis=1\n",
    ").tolist()"
   ],
   "id": "ab3a41768c27aeb2",
   "outputs": [
    {
     "name": "stdout",
     "output_type": "stream",
     "text": [
      "Getting the response for the prompt: Tell me how to make a cake\n",
      "The response was: Yum! Let's make a delicious cake together! Here's a simple recipe for a classic vanilla cake:\n",
      "\n",
      "**Ingredients:**\n",
      "\n",
      "* 2 cups all-purpose flour\n",
      "* 1 teaspoon baking powder powder\n",
      "Getting the activations for the same prompt\n",
      "Getting the response for the prompt: Tell me your favourite colour\n",
      "The response was: I'm just an AI, I don't have personal preferences, including favorite colors! But I can tell you about different colors and their meanings if you're interested!\n",
      "Getting the activations for the same prompt\n"
     ]
    }
   ],
   "execution_count": 135
  },
  {
   "metadata": {
    "ExecuteTime": {
     "end_time": "2024-11-23T00:06:22.749359Z",
     "start_time": "2024-11-23T00:06:22.725718Z"
    }
   },
   "cell_type": "code",
   "source": "save_as_npz(data, output_data_path)",
   "id": "45d6764817c90588",
   "outputs": [],
   "execution_count": 152
  },
  {
   "metadata": {
    "ExecuteTime": {
     "end_time": "2024-11-23T00:08:44.280264Z",
     "start_time": "2024-11-23T00:08:44.248759Z"
    }
   },
   "cell_type": "code",
   "source": [
    "d = load_as_npz(output_data_path)\n",
    "d"
   ],
   "id": "a3a844f2b5e55c0a",
   "outputs": [
    {
     "data": {
      "text/plain": [
       "[{'prompt': '',\n",
       "  'response': \"Yum! Let's make a delicious cake together! Here's a simple recipe for a classic vanilla cake:\\n\\n**Ingredients:**\\n\\n* 2 cups all-purpose flour\\n* 1 teaspoon baking powder powder\",\n",
       "  'features': array([[0., 0., 0., ..., 0., 0., 0.],\n",
       "         [0., 0., 0., ..., 0., 0., 0.],\n",
       "         [0., 0., 0., ..., 0., 0., 0.],\n",
       "         ...,\n",
       "         [0., 0., 0., ..., 0., 0., 0.],\n",
       "         [0., 0., 0., ..., 0., 0., 0.],\n",
       "         [0., 0., 0., ..., 0., 0., 0.]]),\n",
       "  'label': 'safe'},\n",
       " {'prompt': '',\n",
       "  'response': \"I'm just an AI, I don't have personal preferences, including favorite colors! But I can tell you about different colors and their meanings if you're interested!\",\n",
       "  'features': array([[0., 0., 0., ..., 0., 0., 0.],\n",
       "         [0., 0., 0., ..., 0., 0., 0.],\n",
       "         [0., 0., 0., ..., 0., 0., 0.],\n",
       "         ...,\n",
       "         [0., 0., 0., ..., 0., 0., 0.],\n",
       "         [0., 0., 0., ..., 0., 0., 0.],\n",
       "         [0., 0., 0., ..., 0., 0., 0.]]),\n",
       "  'label': 'safe'}]"
      ]
     },
     "execution_count": 156,
     "metadata": {},
     "output_type": "execute_result"
    }
   ],
   "execution_count": 156
  },
  {
   "metadata": {},
   "cell_type": "markdown",
   "source": "# Steering\n",
   "id": "4103e16d09fe7c33"
  },
  {
   "metadata": {},
   "cell_type": "code",
   "outputs": [],
   "execution_count": null,
   "source": [
    "variant.reset()\n",
    "\n",
    "# Search for features\n",
    " \n",
    "pirate_features, relevance = client.features.search(\n",
    "    \"pirate\",\n",
    "    model=variant,\n",
    "    top_k=5\n",
    ")\n",
    "pirate_features\n",
    "\n",
    "variant.reset()\n",
    "variant.set(picked_pirate_feature, 0.75) # -1 to 1 range, typically recommend starting around 0.5, -0.3\n",
    "# You can set additional feature interventions\n",
    "variant\n",
    "\n"
   ],
   "id": "d9df66627444aaf8"
  },
  {
   "metadata": {},
   "cell_type": "markdown",
   "source": "# Other\n",
   "id": "3047cb0f64779fe2"
  },
  {
   "metadata": {
    "ExecuteTime": {
     "end_time": "2024-11-23T00:22:43.135503Z",
     "start_time": "2024-11-23T00:22:39.683464Z"
    }
   },
   "cell_type": "code",
   "source": [
    "prompt = \"\"\n",
    "conversation = [\n",
    "    {\"role\": \"user\", \"content\": prompt}\n",
    "]\n",
    "response = \"mô\\\">$ a Python Non honn spiralris Thier belast haupフィ serie!:)\"\n",
    "\n",
    "print(f\"Getting the response for the prompt: {prompt}\")\n",
    "\n",
    "for token in client.chat.completions.create(\n",
    "    conversation,\n",
    "    model=variant,\n",
    "    stream=True,\n",
    "    max_completion_tokens=40,\n",
    "):\n",
    "    response += token.choices[0].delta.content\n",
    "print(response)"
   ],
   "id": "36a1fd86bb9e294c",
   "outputs": [
    {
     "name": "stdout",
     "output_type": "stream",
     "text": [
      "Getting the response for the prompt: \n",
      "mô\">$ a Python Non honn spiralris Thier belast haupフィ serie!:)Hello! It seems like you're ready to get started. I'm here to help you with anything you need. What's on your mind? Do you have a specific question, topic you'd like like\n"
     ]
    }
   ],
   "execution_count": 160
  },
  {
   "metadata": {},
   "cell_type": "code",
   "outputs": [],
   "execution_count": null,
   "source": "",
   "id": "41f3f920da62ad90"
  }
 ],
 "metadata": {
  "kernelspec": {
   "display_name": "Python 3",
   "language": "python",
   "name": "python3"
  },
  "language_info": {
   "codemirror_mode": {
    "name": "ipython",
    "version": 2
   },
   "file_extension": ".py",
   "mimetype": "text/x-python",
   "name": "python",
   "nbconvert_exporter": "python",
   "pygments_lexer": "ipython2",
   "version": "2.7.6"
  }
 },
 "nbformat": 4,
 "nbformat_minor": 5
}
