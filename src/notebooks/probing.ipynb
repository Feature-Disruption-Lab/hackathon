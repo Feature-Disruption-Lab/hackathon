{
 "cells": [
  {
   "cell_type": "code",
   "execution_count": 19,
   "metadata": {},
   "outputs": [
    {
     "name": "stdout",
     "output_type": "stream",
     "text": [
      "The autoreload extension is already loaded. To reload it, use:\n",
      "  %reload_ext autoreload\n"
     ]
    }
   ],
   "source": [
    "import src.classifiers.linear as linear\n",
    "import numpy as np\n",
    "\n",
    "%load_ext autoreload\n",
    "%autoreload 2"
   ]
  },
  {
   "cell_type": "code",
   "execution_count": null,
   "metadata": {},
   "outputs": [
    {
     "name": "stdout",
     "output_type": "stream",
     "text": [
      "Data loaded: 312\n",
      "Hyperparam optimization...\n"
     ]
    },
    {
     "name": "stderr",
     "output_type": "stream",
     "text": [
      "  6%|████████▌                                                                                                                                                | 1/18 [00:05<01:39,  5.85s/it]"
     ]
    },
    {
     "name": "stdout",
     "output_type": "stream",
     "text": [
      "new best:  0.5 l1 0.001\n"
     ]
    },
    {
     "name": "stderr",
     "output_type": "stream",
     "text": [
      "/home/rob/Data/JACK_HACKATHON/hackathon/myenv/lib/python3.10/site-packages/sklearn/linear_model/_sag.py:349: ConvergenceWarning: The max_iter was reached which means the coef_ did not converge\n",
      "  warnings.warn(\n",
      " 11%|█████████████████                                                                                                                                        | 2/18 [00:23<03:22, 12.67s/it]"
     ]
    },
    {
     "name": "stdout",
     "output_type": "stream",
     "text": [
      "new best:  1.0 l1 0.01\n"
     ]
    },
    {
     "name": "stderr",
     "output_type": "stream",
     "text": [
      "/home/rob/Data/JACK_HACKATHON/hackathon/myenv/lib/python3.10/site-packages/sklearn/linear_model/_sag.py:349: ConvergenceWarning: The max_iter was reached which means the coef_ did not converge\n",
      "  warnings.warn(\n",
      " 17%|█████████████████████████▌                                                                                                                               | 3/18 [00:40<03:44, 14.95s/it]/home/rob/Data/JACK_HACKATHON/hackathon/myenv/lib/python3.10/site-packages/sklearn/linear_model/_sag.py:349: ConvergenceWarning: The max_iter was reached which means the coef_ did not converge\n",
      "  warnings.warn(\n",
      " 22%|██████████████████████████████████                                                                                                                       | 4/18 [00:59<03:46, 16.18s/it]/home/rob/Data/JACK_HACKATHON/hackathon/myenv/lib/python3.10/site-packages/sklearn/linear_model/_sag.py:349: ConvergenceWarning: The max_iter was reached which means the coef_ did not converge\n",
      "  warnings.warn(\n",
      " 28%|██████████████████████████████████████████▌                                                                                                              | 5/18 [01:18<03:47, 17.49s/it]/home/rob/Data/JACK_HACKATHON/hackathon/myenv/lib/python3.10/site-packages/sklearn/linear_model/_sag.py:349: ConvergenceWarning: The max_iter was reached which means the coef_ did not converge\n",
      "  warnings.warn(\n",
      " 33%|███████████████████████████████████████████████████                                                                                                      | 6/18 [01:40<03:45, 18.75s/it]/home/rob/Data/JACK_HACKATHON/hackathon/myenv/lib/python3.10/site-packages/sklearn/linear_model/_sag.py:349: ConvergenceWarning: The max_iter was reached which means the coef_ did not converge\n",
      "  warnings.warn(\n",
      " 39%|███████████████████████████████████████████████████████████▌                                                                                             | 7/18 [01:54<03:10, 17.30s/it]/home/rob/Data/JACK_HACKATHON/hackathon/myenv/lib/python3.10/site-packages/sklearn/linear_model/_sag.py:349: ConvergenceWarning: The max_iter was reached which means the coef_ did not converge\n",
      "  warnings.warn(\n",
      " 44%|████████████████████████████████████████████████████████████████████                                                                                     | 8/18 [02:08<02:43, 16.33s/it]/home/rob/Data/JACK_HACKATHON/hackathon/myenv/lib/python3.10/site-packages/sklearn/linear_model/_sag.py:349: ConvergenceWarning: The max_iter was reached which means the coef_ did not converge\n",
      "  warnings.warn(\n",
      " 50%|████████████████████████████████████████████████████████████████████████████▌                                                                            | 9/18 [02:22<02:21, 15.67s/it]/home/rob/Data/JACK_HACKATHON/hackathon/myenv/lib/python3.10/site-packages/sklearn/linear_model/_sag.py:349: ConvergenceWarning: The max_iter was reached which means the coef_ did not converge\n",
      "  warnings.warn(\n",
      " 56%|████████████████████████████████████████████████████████████████████████████████████▍                                                                   | 10/18 [02:37<02:02, 15.26s/it]/home/rob/Data/JACK_HACKATHON/hackathon/myenv/lib/python3.10/site-packages/sklearn/linear_model/_sag.py:349: ConvergenceWarning: The max_iter was reached which means the coef_ did not converge\n",
      "  warnings.warn(\n",
      " 61%|████████████████████████████████████████████████████████████████████████████████████████████▉                                                           | 11/18 [02:51<01:44, 14.95s/it]/home/rob/Data/JACK_HACKATHON/hackathon/myenv/lib/python3.10/site-packages/sklearn/linear_model/_sag.py:349: ConvergenceWarning: The max_iter was reached which means the coef_ did not converge\n",
      "  warnings.warn(\n",
      " 72%|█████████████████████████████████████████████████████████████████████████████████████████████████████████████▊                                          | 13/18 [03:06<00:52, 10.55s/it]/home/rob/Data/JACK_HACKATHON/hackathon/myenv/lib/python3.10/site-packages/sklearn/linear_model/_sag.py:349: ConvergenceWarning: The max_iter was reached which means the coef_ did not converge\n",
      "  warnings.warn(\n",
      " 78%|██████████████████████████████████████████████████████████████████████████████████████████████████████████████████████▏                                 | 14/18 [03:24<00:50, 12.65s/it]/home/rob/Data/JACK_HACKATHON/hackathon/myenv/lib/python3.10/site-packages/sklearn/linear_model/_sag.py:349: ConvergenceWarning: The max_iter was reached which means the coef_ did not converge\n",
      "  warnings.warn(\n",
      " 83%|██████████████████████████████████████████████████████████████████████████████████████████████████████████████████████████████▋                         | 15/18 [03:41<00:42, 14.18s/it]/home/rob/Data/JACK_HACKATHON/hackathon/myenv/lib/python3.10/site-packages/sklearn/linear_model/_sag.py:349: ConvergenceWarning: The max_iter was reached which means the coef_ did not converge\n",
      "  warnings.warn(\n",
      " 89%|███████████████████████████████████████████████████████████████████████████████████████████████████████████████████████████████████████                 | 16/18 [04:00<00:30, 15.47s/it]/home/rob/Data/JACK_HACKATHON/hackathon/myenv/lib/python3.10/site-packages/sklearn/linear_model/_sag.py:349: ConvergenceWarning: The max_iter was reached which means the coef_ did not converge\n",
      "  warnings.warn(\n",
      " 94%|███████████████████████████████████████████████████████████████████████████████████████████████████████████████████████████████████████████████▌        | 17/18 [04:20<00:16, 16.95s/it]/home/rob/Data/JACK_HACKATHON/hackathon/myenv/lib/python3.10/site-packages/sklearn/linear_model/_sag.py:349: ConvergenceWarning: The max_iter was reached which means the coef_ did not converge\n",
      "  warnings.warn(\n",
      "100%|████████████████████████████████████████████████████████████████████████████████████████████████████████████████████████████████████████████████████████| 18/18 [04:41<00:00, 15.67s/it]\n",
      "/home/rob/Data/JACK_HACKATHON/hackathon/myenv/lib/python3.10/site-packages/sklearn/linear_model/_sag.py:349: ConvergenceWarning: The max_iter was reached which means the coef_ did not converge\n",
      "  warnings.warn(\n"
     ]
    },
    {
     "data": {
      "text/plain": [
       "(LogisticRegression(C=0.01, class_weight='balanced', n_jobs=-1, penalty='l1',\n",
       "                    solver='saga'),\n",
       " 1.0,\n",
       " {('l1', 0.001): 0.5,\n",
       "  ('l1', 0.01): 1.0,\n",
       "  ('l1', 0.1): 1.0,\n",
       "  ('l1', 1): 1.0,\n",
       "  ('l1', 10): 1.0,\n",
       "  ('l1', 100): 1.0,\n",
       "  ('l2', 0.001): 1.0,\n",
       "  ('l2', 0.01): 1.0,\n",
       "  ('l2', 0.1): 1.0,\n",
       "  ('l2', 1): 1.0,\n",
       "  ('l2', 10): 1.0,\n",
       "  ('l2', 100): 1.0,\n",
       "  ('elasticnet', 0.001): 0.5,\n",
       "  ('elasticnet', 0.01): 1.0,\n",
       "  ('elasticnet', 0.1): 1.0,\n",
       "  ('elasticnet', 1): 1.0,\n",
       "  ('elasticnet', 10): 1.0,\n",
       "  ('elasticnet', 100): 1.0})"
      ]
     },
     "execution_count": 5,
     "metadata": {},
     "output_type": "execute_result"
    }
   ],
   "source": [
    "results = linear.main('./data/pair_attacks.npz')"
   ]
  },
  {
   "cell_type": "code",
   "execution_count": 16,
   "metadata": {},
   "outputs": [],
   "source": [
    "coef = results[0].coef_"
   ]
  },
  {
   "cell_type": "code",
   "execution_count": 22,
   "metadata": {},
   "outputs": [
    {
     "data": {
      "text/plain": [
       "(1, 65536)"
      ]
     },
     "execution_count": 22,
     "metadata": {},
     "output_type": "execute_result"
    }
   ],
   "source": [
    "coef.shape"
   ]
  },
  {
   "cell_type": "code",
   "execution_count": 56,
   "metadata": {},
   "outputs": [],
   "source": [
    "topk_idx = np.argsort(np.abs(coef)[0])[::-1][:10]\n",
    "topk_vals = coef[0,topk_idx]\n",
    "needed_idxs = coef.nonzero()[1]"
   ]
  },
  {
   "cell_type": "code",
   "execution_count": null,
   "metadata": {},
   "outputs": [
    {
     "name": "stderr",
     "output_type": "stream",
     "text": [
      "  0%|                                                                                                                                                                  | 0/1 [00:00<?, ?it/s]\n"
     ]
    },
    {
     "ename": "AttributeError",
     "evalue": "'FeatureGroup' object has no attribute 'values'",
     "output_type": "error",
     "traceback": [
      "\u001b[0;31m---------------------------------------------------------------------------\u001b[0m",
      "\u001b[0;31mAttributeError\u001b[0m                            Traceback (most recent call last)",
      "Cell \u001b[0;32mIn[77], line 25\u001b[0m\n\u001b[1;32m     22\u001b[0m             labels[idx] \u001b[38;5;241m=\u001b[39m v\u001b[38;5;241m.\u001b[39mlabel\n\u001b[1;32m     23\u001b[0m     \u001b[38;5;28;01mreturn\u001b[39;00m labels\n\u001b[0;32m---> 25\u001b[0m labels \u001b[38;5;241m=\u001b[39m \u001b[43mget_labels_from_indexs\u001b[49m\u001b[43m(\u001b[49m\u001b[43mneeded_idxs\u001b[49m\u001b[43m)\u001b[49m\n",
      "Cell \u001b[0;32mIn[77], line 21\u001b[0m, in \u001b[0;36mget_labels_from_indexs\u001b[0;34m(idxs, batch_size)\u001b[0m\n\u001b[1;32m     19\u001b[0m     features \u001b[38;5;241m=\u001b[39m client\u001b[38;5;241m.\u001b[39mfeatures\u001b[38;5;241m.\u001b[39mlist(batch_uuids)\n\u001b[1;32m     20\u001b[0m     time\u001b[38;5;241m.\u001b[39msleep(\u001b[38;5;241m0.5\u001b[39m)\n\u001b[0;32m---> 21\u001b[0m     \u001b[38;5;28;01mfor\u001b[39;00m idx, v \u001b[38;5;129;01min\u001b[39;00m \u001b[38;5;28mzip\u001b[39m(batch_idxs, \u001b[43mfeatures\u001b[49m\u001b[38;5;241;43m.\u001b[39;49m\u001b[43mvalues\u001b[49m()):\n\u001b[1;32m     22\u001b[0m         labels[idx] \u001b[38;5;241m=\u001b[39m v\u001b[38;5;241m.\u001b[39mlabel\n\u001b[1;32m     23\u001b[0m \u001b[38;5;28;01mreturn\u001b[39;00m labels\n",
      "\u001b[0;31mAttributeError\u001b[0m: 'FeatureGroup' object has no attribute 'values'"
     ]
    }
   ],
   "source": [
    "import time\n",
    "import pandas as pd\n",
    "# load mapping\n",
    "import goodfire\n",
    "from tqdm import tqdm\n",
    "client = goodfire.Client(api_key=api_key)\n",
    "\n",
    "df = pd.read_csv('./feature_indexes_to_ids_map.csv')\n",
    "\n",
    "def get_uuid_from_index(idx, model='meta-llama/Meta-Llama-3-8B-Instruct'):\n",
    "    # check that `case` matches model, and index_in_sae matches idx, then return the `id` column\n",
    "    return df[(df['case'] == model) & (df['index_in_sae'] == idx)]['id'].values[0]\n",
    "\n",
    "def get_labels_from_indexs(idxs, batch_size=100):\n",
    "    uuids = [get_uuid_from_index(idx) for idx in idxs]\n",
    "    batched_uuids = [(uuids[i:i+batch_size], idxs[i:i+batch_size]) for i in range(0, len(uuids), batch_size)]\n",
    "    labels = {}\n",
    "    for batch_uuids, batch_idxs in tqdm(batched_uuids):\n",
    "        features = client.features.list(batch_uuids)\n",
    "        time.sleep(0.5)\n",
    "        for idx, v in zip(batch_idxs, features._features.values()):\n",
    "            labels[idx] = v.label\n",
    "    return labels\n",
    "\n",
    "labels = get_labels_from_indexs(needed_idxs)"
   ]
  },
  {
   "cell_type": "code",
   "execution_count": 72,
   "metadata": {},
   "outputs": [
    {
     "data": {
      "text/html": [
       "<div>\n",
       "<style scoped>\n",
       "    .dataframe tbody tr th:only-of-type {\n",
       "        vertical-align: middle;\n",
       "    }\n",
       "\n",
       "    .dataframe tbody tr th {\n",
       "        vertical-align: top;\n",
       "    }\n",
       "\n",
       "    .dataframe thead th {\n",
       "        text-align: right;\n",
       "    }\n",
       "</style>\n",
       "<table border=\"1\" class=\"dataframe\">\n",
       "  <thead>\n",
       "    <tr style=\"text-align: right;\">\n",
       "      <th></th>\n",
       "      <th>index_in_sae</th>\n",
       "      <th>id</th>\n",
       "      <th>case</th>\n",
       "    </tr>\n",
       "  </thead>\n",
       "  <tbody>\n",
       "    <tr>\n",
       "      <th>0</th>\n",
       "      <td>0</td>\n",
       "      <td>3ab218be-1b9a-4cb6-9f7f-c0935c4ba24e</td>\n",
       "      <td>meta-llama/Meta-Llama-3-8B-Instruct</td>\n",
       "    </tr>\n",
       "    <tr>\n",
       "      <th>1</th>\n",
       "      <td>1</td>\n",
       "      <td>3ff807a0-bfb6-4b4d-96d5-3a34dc034e0e</td>\n",
       "      <td>meta-llama/Meta-Llama-3-8B-Instruct</td>\n",
       "    </tr>\n",
       "    <tr>\n",
       "      <th>2</th>\n",
       "      <td>2</td>\n",
       "      <td>865c2506-f1fa-4d67-92e5-d29da1dc28f7</td>\n",
       "      <td>meta-llama/Meta-Llama-3-8B-Instruct</td>\n",
       "    </tr>\n",
       "    <tr>\n",
       "      <th>3</th>\n",
       "      <td>3</td>\n",
       "      <td>ea15cfea-cecc-4944-843b-928a0b990668</td>\n",
       "      <td>meta-llama/Meta-Llama-3-8B-Instruct</td>\n",
       "    </tr>\n",
       "    <tr>\n",
       "      <th>4</th>\n",
       "      <td>4</td>\n",
       "      <td>33bef3ce-2ba0-42a8-950a-5c6218d68421</td>\n",
       "      <td>meta-llama/Meta-Llama-3-8B-Instruct</td>\n",
       "    </tr>\n",
       "    <tr>\n",
       "      <th>...</th>\n",
       "      <td>...</td>\n",
       "      <td>...</td>\n",
       "      <td>...</td>\n",
       "    </tr>\n",
       "    <tr>\n",
       "      <th>131067</th>\n",
       "      <td>65531</td>\n",
       "      <td>028416ae-8535-4569-be8c-2dbfb923eacc</td>\n",
       "      <td>meta-llama/Meta-Llama-3.1-70B-Instruct</td>\n",
       "    </tr>\n",
       "    <tr>\n",
       "      <th>131068</th>\n",
       "      <td>65532</td>\n",
       "      <td>9bb6aa2e-baf6-4d75-8b5f-f4ba7372ad2c</td>\n",
       "      <td>meta-llama/Meta-Llama-3.1-70B-Instruct</td>\n",
       "    </tr>\n",
       "    <tr>\n",
       "      <th>131069</th>\n",
       "      <td>65533</td>\n",
       "      <td>f8d5b0c0-4f14-49b4-a1c2-5b7702de0b8a</td>\n",
       "      <td>meta-llama/Meta-Llama-3.1-70B-Instruct</td>\n",
       "    </tr>\n",
       "    <tr>\n",
       "      <th>131070</th>\n",
       "      <td>65534</td>\n",
       "      <td>ecc4a017-4e7f-4f9d-ba0b-b0b5d5d59fc8</td>\n",
       "      <td>meta-llama/Meta-Llama-3.1-70B-Instruct</td>\n",
       "    </tr>\n",
       "    <tr>\n",
       "      <th>131071</th>\n",
       "      <td>65535</td>\n",
       "      <td>ddddd011-7734-4119-8b74-76959b7404ea</td>\n",
       "      <td>meta-llama/Meta-Llama-3.1-70B-Instruct</td>\n",
       "    </tr>\n",
       "  </tbody>\n",
       "</table>\n",
       "<p>131072 rows × 3 columns</p>\n",
       "</div>"
      ],
      "text/plain": [
       "        index_in_sae                                    id  \\\n",
       "0                  0  3ab218be-1b9a-4cb6-9f7f-c0935c4ba24e   \n",
       "1                  1  3ff807a0-bfb6-4b4d-96d5-3a34dc034e0e   \n",
       "2                  2  865c2506-f1fa-4d67-92e5-d29da1dc28f7   \n",
       "3                  3  ea15cfea-cecc-4944-843b-928a0b990668   \n",
       "4                  4  33bef3ce-2ba0-42a8-950a-5c6218d68421   \n",
       "...              ...                                   ...   \n",
       "131067         65531  028416ae-8535-4569-be8c-2dbfb923eacc   \n",
       "131068         65532  9bb6aa2e-baf6-4d75-8b5f-f4ba7372ad2c   \n",
       "131069         65533  f8d5b0c0-4f14-49b4-a1c2-5b7702de0b8a   \n",
       "131070         65534  ecc4a017-4e7f-4f9d-ba0b-b0b5d5d59fc8   \n",
       "131071         65535  ddddd011-7734-4119-8b74-76959b7404ea   \n",
       "\n",
       "                                          case  \n",
       "0          meta-llama/Meta-Llama-3-8B-Instruct  \n",
       "1          meta-llama/Meta-Llama-3-8B-Instruct  \n",
       "2          meta-llama/Meta-Llama-3-8B-Instruct  \n",
       "3          meta-llama/Meta-Llama-3-8B-Instruct  \n",
       "4          meta-llama/Meta-Llama-3-8B-Instruct  \n",
       "...                                        ...  \n",
       "131067  meta-llama/Meta-Llama-3.1-70B-Instruct  \n",
       "131068  meta-llama/Meta-Llama-3.1-70B-Instruct  \n",
       "131069  meta-llama/Meta-Llama-3.1-70B-Instruct  \n",
       "131070  meta-llama/Meta-Llama-3.1-70B-Instruct  \n",
       "131071  meta-llama/Meta-Llama-3.1-70B-Instruct  \n",
       "\n",
       "[131072 rows x 3 columns]"
      ]
     },
     "execution_count": 72,
     "metadata": {},
     "output_type": "execute_result"
    }
   ],
   "source": [
    "df"
   ]
  },
  {
   "cell_type": "code",
   "execution_count": 32,
   "metadata": {},
   "outputs": [
    {
     "data": {
      "text/plain": [
       "array([17770, 26989, 41459, 29882, 51506,  8653, 43824, 47149, 13674,\n",
       "       54472])"
      ]
     },
     "execution_count": 32,
     "metadata": {},
     "output_type": "execute_result"
    }
   ],
   "source": [
    "topk_idx"
   ]
  },
  {
   "cell_type": "code",
   "execution_count": null,
   "metadata": {},
   "outputs": [],
   "source": []
  },
  {
   "cell_type": "code",
   "execution_count": 50,
   "metadata": {},
   "outputs": [
    {
     "data": {
      "application/vnd.jupyter.widget-view+json": {
       "model_id": "4b634f54882c43d7832cb35a220ad492",
       "version_major": 2,
       "version_minor": 0
      },
      "text/plain": [
       "README.md:   0%|          | 0.00/373 [00:00<?, ?B/s]"
      ]
     },
     "metadata": {},
     "output_type": "display_data"
    },
    {
     "data": {
      "application/vnd.jupyter.widget-view+json": {
       "model_id": "d04f9d704f3e4af4a6116d3f369eb075",
       "version_major": 2,
       "version_minor": 0
      },
      "text/plain": [
       "dataset_infos.json:   0%|          | 0.00/921 [00:00<?, ?B/s]"
      ]
     },
     "metadata": {},
     "output_type": "display_data"
    }
   ],
   "source": [
    "# load Neel nanda pile 10k\n",
    "from datasets import load_dataset\n",
    "\n",
    "ds = load_dataset('NeelNanda/pile-10k')"
   ]
  },
  {
   "cell_type": "code",
   "execution_count": null,
   "metadata": {},
   "outputs": [
    {
     "data": {
      "text/plain": [
       "(FeatureGroup([\n",
       "    0: \"Simple indie or casual mobile game concepts\",\n",
       "    1: \"Interactive games and quizzes\",\n",
       "    2: \"Game over or win condition detection\",\n",
       "    3: \"Game play moves and actions\",\n",
       "    4: \"The model should complete a code snippet for a simple game\",\n",
       "    5: \"The model should complete a code snippet for the game Pong\",\n",
       "    6: \"Action of submitting or turning in content\",\n",
       "    7: \"Adventure and survival game themes\",\n",
       "    8: \"Child-oriented mobile apps and games\",\n",
       "    9: \"Use of 'that' to introduce subordinate clauses or additional information\"\n",
       " ]),\n",
       " [0.4608382284641266,\n",
       "  0.4347690939903259,\n",
       "  0.4068910777568817,\n",
       "  0.4028874337673187,\n",
       "  0.39343610405921936,\n",
       "  0.392151415348053,\n",
       "  0.39035332202911377,\n",
       "  0.37867432832717896,\n",
       "  0.37514179944992065,\n",
       "  0.36837878823280334])"
      ]
     },
     "execution_count": 62,
     "metadata": {},
     "output_type": "execute_result"
    }
   ],
   "source": [
    "resp = client.features.search(ds['train'][0]['text'][:100])"
   ]
  },
  {
   "cell_type": "code",
   "execution_count": 80,
   "metadata": {},
   "outputs": [
    {
     "data": {
      "text/plain": [
       "odict_values([Feature(\"Simple indie or casual mobile game concepts\")])"
      ]
     },
     "execution_count": 80,
     "metadata": {},
     "output_type": "execute_result"
    }
   ],
   "source": [
    "client.features.list(['56b9533a-fb87-43e9-8aa3-f5da292be286'])._features.values()"
   ]
  }
 ],
 "metadata": {
  "kernelspec": {
   "display_name": "Python 3 (ipykernel)",
   "language": "python",
   "name": "python3"
  },
  "language_info": {
   "codemirror_mode": {
    "name": "ipython",
    "version": 3
   },
   "file_extension": ".py",
   "mimetype": "text/x-python",
   "name": "python",
   "nbconvert_exporter": "python",
   "pygments_lexer": "ipython3",
   "version": "3.10.13"
  }
 },
 "nbformat": 4,
 "nbformat_minor": 2
}
