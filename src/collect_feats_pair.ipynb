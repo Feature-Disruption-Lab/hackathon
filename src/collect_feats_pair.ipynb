{
 "cells": [
  {
   "cell_type": "code",
   "execution_count": null,
   "id": "f05f570dce907766",
   "metadata": {
    "ExecuteTime": {
     "end_time": "2024-11-23T11:11:34.394380Z",
     "start_time": "2024-11-23T11:11:34.369030Z"
    },
    "id": "f05f570dce907766"
   },
   "outputs": [
    {
     "ename": "ModuleNotFoundError",
     "evalue": "No module named 'dotenv'",
     "output_type": "error",
     "traceback": [
      "\u001b[0;31m---------------------------------------------------------------------------\u001b[0m",
      "\u001b[0;31mModuleNotFoundError\u001b[0m                       Traceback (most recent call last)",
      "Cell \u001b[0;32mIn[4], line 1\u001b[0m\n\u001b[0;32m----> 1\u001b[0m \u001b[38;5;28;01mimport\u001b[39;00m \u001b[38;5;21;01mdotenv\u001b[39;00m\n\u001b[1;32m      2\u001b[0m dotenv\u001b[38;5;241m.\u001b[39mload_dotenv()\n\u001b[1;32m      3\u001b[0m \u001b[38;5;28;01mimport\u001b[39;00m \u001b[38;5;21;01mos\u001b[39;00m\n",
      "\u001b[0;31mModuleNotFoundError\u001b[0m: No module named 'dotenv'"
     ]
    }
   ],
   "source": [
    "import os\n",
    "import random\n",
    "import goodfire\n",
    "import pandas as pd"
   ]
  },
  {
   "cell_type": "code",
   "execution_count": 2,
   "id": "6c00c2f60e7d91a",
   "metadata": {
    "id": "6c00c2f60e7d91a"
   },
   "outputs": [],
   "source": [
    "api_key = os.getenv('API_KEY')\n",
    "client = goodfire.Client(api_key)\n",
    "\n",
    "# MODEL = \"meta-llama/Meta-Llama-3-70B-Instruct\"\n",
    "MODEL = \"meta-llama/Meta-Llama-3-8B-Instruct\"\n",
    "variant = goodfire.Variant(MODEL)"
   ]
  },
  {
   "cell_type": "code",
   "execution_count": 3,
   "id": "7161d5bb",
   "metadata": {},
   "outputs": [],
   "source": [
    "api_key"
   ]
  },
  {
   "cell_type": "markdown",
   "id": "38d49cf5fc3b3ae",
   "metadata": {
    "id": "38d49cf5fc3b3ae"
   },
   "source": [
    "# Create Data"
   ]
  },
  {
   "cell_type": "code",
   "execution_count": 9,
   "id": "a59fccd7769dfc22",
   "metadata": {
    "ExecuteTime": {
     "end_time": "2024-11-23T10:54:43.623275Z",
     "start_time": "2024-11-23T10:54:43.594367Z"
    },
    "colab": {
     "base_uri": "https://localhost:8080/",
     "height": 206
    },
    "id": "a59fccd7769dfc22",
    "outputId": "8a13dacc-9ff9-4bf3-be62-b8898834b245"
   },
   "outputs": [],
   "source": [
    "import json\n",
    "with open(\"./pair_attacks.json\", 'r') as f:\n",
    "    pair_attacks = json.load(f)"
   ]
  },
  {
   "cell_type": "markdown",
   "id": "abe5de73adcba1c0",
   "metadata": {
    "id": "abe5de73adcba1c0"
   },
   "source": [
    "### Hijacking Data"
   ]
  },
  {
   "cell_type": "code",
   "execution_count": 11,
   "id": "2065c246",
   "metadata": {},
   "outputs": [],
   "source": [
    "from time import sleep\n",
    "from typing import Any\n",
    "from src.goodfire_utils import clone_variant, run_conversation_through_goodfire\n",
    "from src.utils import retry_with_backoff\n",
    "\n",
    "\n",
    "def get_response_for_prompt(row: dict[str, Any]) -> dict:\n",
    "    \"\"\"\n",
    "    row: {\"preprompt\": str, \"attack\": str, \"bad\": int}\n",
    "    bad is 0 or 1, 1 meanind bad, 0 meaning good\n",
    "    \"\"\"\n",
    "    conv = [\n",
    "        {\"role\": \"user\", \"content\": row[\"prompt\"]},\n",
    "    ]\n",
    "\n",
    "    # sleep to distribute load of API\n",
    "    sleep(random.random() * 2)\n",
    "\n",
    "    def get_response():\n",
    "        # clone the model variant as it's stateful and we don't want\n",
    "        # different api hits impacting each other\n",
    "        cloned_variant = clone_variant(variant)\n",
    "        return run_conversation_through_goodfire(conv, cloned_variant, client)\n",
    "\n",
    "    # try to generate response, using backoff so we don't hit rate limits\n",
    "    try:\n",
    "        response = retry_with_backoff(get_response, max_retries=5)\n",
    "\n",
    "        # return response with the label added\n",
    "        return {\n",
    "            \"prompt\": response[\"prompt\"],\n",
    "            \"response\": response[\"response\"],\n",
    "            \"features\": response[\"features\"],\n",
    "            \"label\": row[\"success\"],\n",
    "        }\n",
    "\n",
    "    except Exception as e:\n",
    "        return {\"error\": str(e)}"
   ]
  },
  {
   "cell_type": "code",
   "execution_count": 13,
   "id": "9f297f4e",
   "metadata": {},
   "outputs": [
    {
     "name": "stderr",
     "output_type": "stream",
     "text": [
      "  0%|                                                                                                                                                                | 0/330 [00:00<?, ?it/s]"
     ]
    },
    {
     "name": "stderr",
     "output_type": "stream",
     "text": [
      "100%|██████████████████████████████████████████████████████████████████████████████████████████████████████████████████████████████████████████████████████| 330/330 [00:14<00:00, 23.38it/s]"
     ]
    },
    {
     "name": "stdout",
     "output_type": "stream",
     "text": [
      "Number of errors: 330\n"
     ]
    },
    {
     "name": "stderr",
     "output_type": "stream",
     "text": [
      "\n"
     ]
    }
   ],
   "source": [
    "from concurrent.futures import ThreadPoolExecutor\n",
    "from tqdm import tqdm\n",
    "\n",
    "with ThreadPoolExecutor(30) as executor:\n",
    "    conversation_responses = list(\n",
    "        tqdm(\n",
    "            executor.map(get_response_for_prompt, pair_attacks),\n",
    "            total=len(pair_attacks),\n",
    "        )\n",
    "    )\n",
    "\n",
    "errors = [r for r in conversation_responses if \"error\" in r]\n",
    "print(f\"Number of errors: {len(errors)}\")\n",
    "\n",
    "conversation_responses = [r for r in conversation_responses if \"error\" not in r]"
   ]
  },
  {
   "cell_type": "code",
   "execution_count": 14,
   "id": "24f68ce2",
   "metadata": {},
   "outputs": [
    {
     "data": {
      "text/plain": [
       "{'error': 'Invalid API key.'}"
      ]
     },
     "execution_count": 14,
     "metadata": {},
     "output_type": "execute_result"
    }
   ],
   "source": [
    "errors[0]"
   ]
  },
  {
   "cell_type": "code",
   "execution_count": 15,
   "id": "e9a93eff",
   "metadata": {},
   "outputs": [
    {
     "data": {
      "text/plain": [
       "'[Errno 8] nodename nor servname provided, or not known'"
      ]
     },
     "execution_count": 15,
     "metadata": {},
     "output_type": "execute_result"
    }
   ],
   "source": [
    "errors[0]['error']"
   ]
  },
  {
   "cell_type": "code",
   "execution_count": 13,
   "id": "ffdd5d9e",
   "metadata": {},
   "outputs": [],
   "source": [
    "from utils import save_as_npz\n",
    "save_as_npz(conversation_responses, DATA_DIR / \"tensortrust_output.npz\")"
   ]
  },
  {
   "cell_type": "code",
   "execution_count": null,
   "id": "4457d6bd",
   "metadata": {},
   "outputs": [],
   "source": []
  }
 ],
 "metadata": {
  "colab": {
   "provenance": []
  },
  "kernelspec": {
   "display_name": "Python 3 (ipykernel)",
   "language": "python",
   "name": "python3"
  },
  "language_info": {
   "codemirror_mode": {
    "name": "ipython",
    "version": 3
   },
   "file_extension": ".py",
   "mimetype": "text/x-python",
   "name": "python",
   "nbconvert_exporter": "python",
   "pygments_lexer": "ipython3",
   "version": "3.10.13"
  }
 },
 "nbformat": 4,
 "nbformat_minor": 5
}
